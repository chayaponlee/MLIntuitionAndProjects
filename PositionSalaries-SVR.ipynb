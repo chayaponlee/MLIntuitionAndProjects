{
 "cells": [
  {
   "cell_type": "code",
   "execution_count": 17,
   "metadata": {},
   "outputs": [
    {
     "name": "stderr",
     "output_type": "stream",
     "text": [
      "C:\\Users\\GE62\\Anaconda3\\lib\\site-packages\\sklearn\\utils\\validation.py:475: DataConversionWarning: Data with input dtype int64 was converted to float64 by StandardScaler.\n",
      "  warnings.warn(msg, DataConversionWarning)\n",
      "C:\\Users\\GE62\\Anaconda3\\lib\\site-packages\\sklearn\\utils\\validation.py:578: DataConversionWarning: A column-vector y was passed when a 1d array was expected. Please change the shape of y to (n_samples, ), for example using ravel().\n",
      "  y = column_or_1d(y, warn=True)\n"
     ]
    },
    {
     "data": {
      "image/png": "[encoded data removed]",
      "text/plain": [
       "<matplotlib.figure.Figure at 0x2bdb1bcdc88>"
      ]
     },
     "metadata": {},
     "output_type": "display_data"
    }
   ],
   "source": [
    "# Point of linear regression is to minimize the error between the prediction and test data\n",
    "# Point of SVR is to try to not let the error points exceed the threshold\n",
    "import numpy as np\n",
    "import matplotlib.pyplot as plt\n",
    "import pandas as pd\n",
    "\n",
    "dataset = pd.read_csv('/Position_Salaries.csv')\n",
    "\n",
    "x = dataset.iloc[:,1:2].values\n",
    "y = dataset.iloc[:,2:3].values\n",
    "\n",
    "# have to feature scale since svm library does not support it\n",
    "from sklearn.preprocessing import StandardScaler\n",
    "sc_x = StandardScaler()\n",
    "sc_y = StandardScaler()\n",
    "x = sc_x.fit_transform(x)\n",
    "# template have both x test and train but here rmb that we did not split our data\n",
    "# x_test = sc_x.transform(x_test)\n",
    "y = sc_y.fit_transform(y)\n",
    "\n",
    "# Fitting SVR to the dataset\n",
    "from sklearn.svm import SVR\n",
    "# kernel is rbf refers to Gaussian kernel, it is rbf by default btw\n",
    "regressor = SVR(kernel = 'rbf')\n",
    "regressor.fit(x,y)\n",
    "\n",
    "# Predict\n",
    "# need to use scaling to x for predict() because our regressor contains the scaled values\n",
    "# no need to fit transformm because we dont need to fit it\n",
    "# ITS A GOOD IDEA TO CHECK ARGUMENTS OF A FUNCTION SUCH AS\n",
    "# LOOKING FOR THE DATA TYPE TO THE ARGUMENT\n",
    "# i.e. transform needs an array_like x, which is not a single int or float\n",
    "y_pred = sc_y.inverse_transform(regressor.predict(sc_x.transform(np.array([[6.5]]))))\n",
    "\n",
    "# using np.array(6.5) would make a vector with one element but to have a proper matrix,\n",
    "# for real array like matrix, two brackets covering 6.5 is saying one line and one column(cell)\n",
    "\n",
    "\n",
    "# # Visualize SVR \n",
    "# use x_grid to make line smooth\n",
    "# if u look at the plot u will see that the trend line does not go to the CEO level point\n",
    "# this is because svm considers it to be an outlier which is fine because we want to predict 6.5 years\n",
    "x_grid = np.arange(min(x), max(x),0.1)\n",
    "x_grid = x_grid.reshape((len(x_grid), 1))\n",
    "plt.scatter(x,y, color = 'red')\n",
    "plt.plot(x_grid,regressor.predict(x_grid), color='blue')\n",
    "plt.title('Truth or Bluff (SVR)')\n",
    "plt.xlabel('Positions Level')\n",
    "plt.ylabel('Salary')\n",
    "plt.show()"
   ]
  },
  {
   "cell_type": "code",
   "execution_count": 14,
   "metadata": {},
   "outputs": [
    {
     "data": {
      "text/plain": [
       "array([ 170370.0204065])"
      ]
     },
     "execution_count": 14,
     "metadata": {},
     "output_type": "execute_result"
    }
   ],
   "source": [
    "y_pred"
   ]
  },
  {
   "cell_type": "code",
   "execution_count": null,
   "metadata": {
    "collapsed": true
   },
   "outputs": [],
   "source": []
  }
 ],
 "metadata": {
  "kernelspec": {
   "display_name": "Python 3",
   "language": "python",
   "name": "python3"
  },
  "language_info": {
   "codemirror_mode": {
    "name": "ipython",
    "version": 3
   },
   "file_extension": ".py",
   "mimetype": "text/x-python",
   "name": "python",
   "nbconvert_exporter": "python",
   "pygments_lexer": "ipython3",
   "version": "3.6.3"
  }
 },
 "nbformat": 4,
 "nbformat_minor": 2
}
