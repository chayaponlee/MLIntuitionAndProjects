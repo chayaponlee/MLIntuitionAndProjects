{
 "cells": [
  {
   "cell_type": "code",
   "execution_count": 1,
   "metadata": {
    "collapsed": true
   },
   "outputs": [],
   "source": [
    "# polynomial is used to model curves that are not linear\n",
    "# however it is still called polynomia linear regression because\n",
    "# the linearity is concerned with the coefficients which they are in relation with y variable\n",
    "import numpy as np\n",
    "import matplotlib.pyplot as plt\n",
    "import pandas as pd\n",
    "# the situation: newly hired employee is negotiating for his salary\n",
    "# he said that with his years of experience, he had 160k salary with his ex-firm\n",
    "# so he wishes to have a salary more than that\n",
    "# hr thinks hes detective and calls the ex-firm and found out this data set\n",
    "# so hr decided to create a bluff detector to see if employees are bluffing or not"
   ]
  },
  {
   "cell_type": "code",
   "execution_count": 2,
   "metadata": {
    "collapsed": true
   },
   "outputs": [],
   "source": [
    "dataset = pd.read_csv('/Position_Salaries.csv')\n",
    "# you dunt need the first column beuase it is already ordered by 'level' column'\n",
    "x = dataset.iloc[:,1:2].values\n",
    "y = dataset.iloc[:,2:3].values\n",
    "\n",
    "\n",
    "# now we only have 10 observations, so we dont have to split\n",
    "# and so with this valuable data we have to be very accurate\n",
    "\n",
    "# from sklearn.model_selection import train_test_split\n",
    "# x_train, x_test, y_train,y_test = train_test_split(x,y,test_size = 0.2, random_state = 0)\n",
    "# no need for feature scaling since using the same library "
   ]
  },
  {
   "cell_type": "code",
   "execution_count": 24,
   "metadata": {},
   "outputs": [
    {
     "data": {
      "image/png": "[encoded data removed]",
      "text/plain": [
       "<matplotlib.figure.Figure at 0x265f2e1f6d8>"
      ]
     },
     "metadata": {},
     "output_type": "display_data"
    },
    {
     "data": {
      "image/png": "[encoded data removed]",
      "text/plain": [
       "<matplotlib.figure.Figure at 0x265f2f2feb8>"
      ]
     },
     "metadata": {},
     "output_type": "display_data"
    },
    {
     "data": {
      "text/plain": [
       "array([[ 158862.45265153]])"
      ]
     },
     "execution_count": 24,
     "metadata": {},
     "output_type": "execute_result"
    }
   ],
   "source": [
    "# polynomial regressor is not a linear regresssor \n",
    "# so the plan is to try the linear regression and the polynomial regression\n",
    "\n",
    "# Fitting Linear Regression to the dataset\n",
    "from sklearn.linear_model import LinearRegression\n",
    "lin_reg = LinearRegression()\n",
    "lin_reg.fit(x,y)\n",
    "\n",
    "# Fitting Polynomial Regeression to the dataset\n",
    "from sklearn.preprocessing import PolynomialFeatures\n",
    "poly_reg = PolynomialFeatures(degree = 4)\n",
    "# here we will try to add values to the matrix x to make a new matrix x\n",
    "\n",
    "x_poly = poly_reg.fit_transform(x)\n",
    "# in terms of matrix x2 is x1^2 with x0 is ones\n",
    "# x0 is there to be included as the x0 coefficient because the library doesnt include it\n",
    "# just like multiregression\n",
    "\n",
    "# the next step makes sense because x_poly is now a proper matrix (which is like)\n",
    "# multiregression last chapter\n",
    "lin_reg_2 = LinearRegression()\n",
    "lin_reg_2.fit(x_poly, y)\n",
    "\n",
    "# Visualize LR\n",
    "plt.scatter(x,y, color = 'red')\n",
    "plt.plot(x,lin_reg.predict(x), color='blue')\n",
    "plt.title('Truth or Bluff (LinearRegression)')\n",
    "plt.xlabel('Positions Level')\n",
    "plt.ylabel('Salary')\n",
    "plt.show()\n",
    "# Visualize PR\n",
    "# problem with the plot is that the lines of the curve is like edgy \n",
    "# which is like bunch of lines, so we will attempt to scale it\n",
    "# to create the array: arrange(minimum value, maximum value, increment)\n",
    "x_grid = np.arange(min(x), max(x),0.1)\n",
    "# change to matrix because linearregression accepts matrix only\n",
    "x_grid = x_grid.reshape((len(x_grid), 1))\n",
    "plt.scatter(x,y, color = 'red')\n",
    "# here u can use x_poly but because we want to make the code applicable\n",
    "# to all cases we will use an arbitary x \n",
    "plt.plot(x_grid,lin_reg_2.predict(poly_reg.fit_transform(x_grid)), color='blue')\n",
    "plt.title('Truth or Bluff (PolyRegression)')\n",
    "plt.xlabel('Positions Level')\n",
    "plt.ylabel('Salary')\n",
    "plt.show()\n",
    "\n",
    "# employee is pretty honest because our model says that salary is around 200k\n",
    "# but empolyee says he earns 160k \n",
    "\n",
    "# Predicting new result with LR\n",
    "lin_reg.predict(6.5)\n",
    "\n",
    "# Predicting new result with PR\n",
    "lin_reg_2.predict(poly_reg.fit_transform(6.5))\n"
   ]
  },
  {
   "cell_type": "code",
   "execution_count": 18,
   "metadata": {},
   "outputs": [
    {
     "data": {
      "text/plain": [
       "array([ 1. ,  1.1,  1.2,  1.3,  1.4,  1.5,  1.6,  1.7,  1.8,  1.9,  2. ,\n",
       "        2.1,  2.2,  2.3,  2.4,  2.5,  2.6,  2.7,  2.8,  2.9,  3. ,  3.1,\n",
       "        3.2,  3.3,  3.4,  3.5,  3.6,  3.7,  3.8,  3.9,  4. ,  4.1,  4.2,\n",
       "        4.3,  4.4,  4.5,  4.6,  4.7,  4.8,  4.9,  5. ,  5.1,  5.2,  5.3,\n",
       "        5.4,  5.5,  5.6,  5.7,  5.8,  5.9,  6. ,  6.1,  6.2,  6.3,  6.4,\n",
       "        6.5,  6.6,  6.7,  6.8,  6.9,  7. ,  7.1,  7.2,  7.3,  7.4,  7.5,\n",
       "        7.6,  7.7,  7.8,  7.9,  8. ,  8.1,  8.2,  8.3,  8.4,  8.5,  8.6,\n",
       "        8.7,  8.8,  8.9,  9. ,  9.1,  9.2,  9.3,  9.4,  9.5,  9.6,  9.7,\n",
       "        9.8,  9.9])"
      ]
     },
     "execution_count": 18,
     "metadata": {},
     "output_type": "execute_result"
    }
   ],
   "source": [
    "x_grid"
   ]
  },
  {
   "cell_type": "code",
   "execution_count": 21,
   "metadata": {},
   "outputs": [
    {
     "data": {
      "text/plain": [
       "array([[ 1. ],\n",
       "       [ 1.1],\n",
       "       [ 1.2],\n",
       "       [ 1.3],\n",
       "       [ 1.4],\n",
       "       [ 1.5],\n",
       "       [ 1.6],\n",
       "       [ 1.7],\n",
       "       [ 1.8],\n",
       "       [ 1.9],\n",
       "       [ 2. ],\n",
       "       [ 2.1],\n",
       "       [ 2.2],\n",
       "       [ 2.3],\n",
       "       [ 2.4],\n",
       "       [ 2.5],\n",
       "       [ 2.6],\n",
       "       [ 2.7],\n",
       "       [ 2.8],\n",
       "       [ 2.9],\n",
       "       [ 3. ],\n",
       "       [ 3.1],\n",
       "       [ 3.2],\n",
       "       [ 3.3],\n",
       "       [ 3.4],\n",
       "       [ 3.5],\n",
       "       [ 3.6],\n",
       "       [ 3.7],\n",
       "       [ 3.8],\n",
       "       [ 3.9],\n",
       "       [ 4. ],\n",
       "       [ 4.1],\n",
       "       [ 4.2],\n",
       "       [ 4.3],\n",
       "       [ 4.4],\n",
       "       [ 4.5],\n",
       "       [ 4.6],\n",
       "       [ 4.7],\n",
       "       [ 4.8],\n",
       "       [ 4.9],\n",
       "       [ 5. ],\n",
       "       [ 5.1],\n",
       "       [ 5.2],\n",
       "       [ 5.3],\n",
       "       [ 5.4],\n",
       "       [ 5.5],\n",
       "       [ 5.6],\n",
       "       [ 5.7],\n",
       "       [ 5.8],\n",
       "       [ 5.9],\n",
       "       [ 6. ],\n",
       "       [ 6.1],\n",
       "       [ 6.2],\n",
       "       [ 6.3],\n",
       "       [ 6.4],\n",
       "       [ 6.5],\n",
       "       [ 6.6],\n",
       "       [ 6.7],\n",
       "       [ 6.8],\n",
       "       [ 6.9],\n",
       "       [ 7. ],\n",
       "       [ 7.1],\n",
       "       [ 7.2],\n",
       "       [ 7.3],\n",
       "       [ 7.4],\n",
       "       [ 7.5],\n",
       "       [ 7.6],\n",
       "       [ 7.7],\n",
       "       [ 7.8],\n",
       "       [ 7.9],\n",
       "       [ 8. ],\n",
       "       [ 8.1],\n",
       "       [ 8.2],\n",
       "       [ 8.3],\n",
       "       [ 8.4],\n",
       "       [ 8.5],\n",
       "       [ 8.6],\n",
       "       [ 8.7],\n",
       "       [ 8.8],\n",
       "       [ 8.9],\n",
       "       [ 9. ],\n",
       "       [ 9.1],\n",
       "       [ 9.2],\n",
       "       [ 9.3],\n",
       "       [ 9.4],\n",
       "       [ 9.5],\n",
       "       [ 9.6],\n",
       "       [ 9.7],\n",
       "       [ 9.8],\n",
       "       [ 9.9]])"
      ]
     },
     "execution_count": 21,
     "metadata": {},
     "output_type": "execute_result"
    }
   ],
   "source": [
    "x_grid"
   ]
  },
  {
   "cell_type": "code",
   "execution_count": null,
   "metadata": {
    "collapsed": true
   },
   "outputs": [],
   "source": []
  }
 ],
 "metadata": {
  "kernelspec": {
   "display_name": "Python 3",
   "language": "python",
   "name": "python3"
  },
  "language_info": {
   "codemirror_mode": {
    "name": "ipython",
    "version": 3
   },
   "file_extension": ".py",
   "mimetype": "text/x-python",
   "name": "python",
   "nbconvert_exporter": "python",
   "pygments_lexer": "ipython3",
   "version": "3.6.3"
  }
 },
 "nbformat": 4,
 "nbformat_minor": 2
}
