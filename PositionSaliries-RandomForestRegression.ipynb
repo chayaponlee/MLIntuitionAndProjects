{
 "cells": [
  {
   "cell_type": "code",
   "execution_count": 9,
   "metadata": {},
   "outputs": [
    {
     "name": "stderr",
     "output_type": "stream",
     "text": [
      "C:\\Users\\GE62\\Anaconda3\\lib\\site-packages\\ipykernel_launcher.py:22: DataConversionWarning: A column-vector y was passed when a 1d array was expected. Please change the shape of y to (n_samples,), for example using ravel().\n"
     ]
    },
    {
     "data": {
      "image/png": "[encoded data removed]",
      "text/plain": [
       "<matplotlib.figure.Figure at 0x1b6fb009278>"
      ]
     },
     "metadata": {},
     "output_type": "display_data"
    }
   ],
   "source": [
    "# random forest is a version of ensemble learning (others are like gradient boosting)\n",
    "# ensemble learning- when u take multiple algos or the same algos many times and combine it\n",
    "# to make something powerful\n",
    "# random forest is powerful because if there is something wrong with the algo, it is easier to affect one single\n",
    "# decision tree than ot affect a forest of trees\n",
    "\n",
    "# the ultimate prediction of random forest is the average of the decision tree decisions\n",
    "import numpy as np\n",
    "import matplotlib.pyplot as plt\n",
    "import pandas as pd\n",
    "\n",
    "dataset = pd.read_csv('/Position_Salaries.csv')\n",
    "\n",
    "x = dataset.iloc[:,1:2].values\n",
    "y = dataset.iloc[:,2:3].values\n",
    "\n",
    "# Fitting RFR to dataset\n",
    "from sklearn.ensemble import RandomForestRegressor\n",
    "# arguments - 'n_estimators' or number of trees ;default is 10.\n",
    "# criterion is mean squared error or mse and the only one\n",
    "regressor = RandomForestRegressor(n_estimators = 300, random_state = 0)\n",
    "regressor.fit(x,y)\n",
    "\n",
    "# Predicting a new result\n",
    "y_pred = regressor.predict(6.5)\n",
    "\n",
    "x_grid = np.arange(min(x), max(x),0.01)\n",
    "x_grid = x_grid.reshape((len(x_grid), 1))\n",
    "plt.scatter(x,y, color = 'red')\n",
    "plt.plot(x_grid,regressor.predict(x_grid), color='blue')\n",
    "plt.title('Truth or Bluff (RandomForestRegression)')\n",
    "plt.xlabel('Positions Level')\n",
    "plt.ylabel('Salary')\n",
    "plt.show()\n",
    "\n",
    "# From the trend, there are more steps (visually) compared to a single decicion tree\n",
    "# however, increasing the number of trees does not increase steps because\n",
    "# the averages are still converging to the same value \n",
    "# increasing trees is an attempt to get a better preediction which means steps' magnitude will change\n"
   ]
  },
  {
   "cell_type": "code",
   "execution_count": 10,
   "metadata": {},
   "outputs": [
    {
     "data": {
      "text/plain": [
       "array([ 160333.33333333])"
      ]
     },
     "execution_count": 10,
     "metadata": {},
     "output_type": "execute_result"
    }
   ],
   "source": [
    "y_pred"
   ]
  },
  {
   "cell_type": "code",
   "execution_count": null,
   "metadata": {
    "collapsed": true
   },
   "outputs": [],
   "source": []
  }
 ],
 "metadata": {
  "kernelspec": {
   "display_name": "Python 3",
   "language": "python",
   "name": "python3"
  },
  "language_info": {
   "codemirror_mode": {
    "name": "ipython",
    "version": 3
   },
   "file_extension": ".py",
   "mimetype": "text/x-python",
   "name": "python",
   "nbconvert_exporter": "python",
   "pygments_lexer": "ipython3",
   "version": "3.6.3"
  }
 },
 "nbformat": 4,
 "nbformat_minor": 2
}
