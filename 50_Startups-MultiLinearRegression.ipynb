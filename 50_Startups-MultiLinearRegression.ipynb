{
 "cells": [
  {
   "cell_type": "code",
   "execution_count": 1,
   "metadata": {
    "collapsed": true
   },
   "outputs": [],
   "source": [
    "import numpy as np\n",
    "import matplotlib.pyplot as plt\n",
    "import pandas as pd\n",
    "\n",
    "# Before doing any regression model, you have to make sure that the \n",
    "# assumptions are true which are:\n",
    "# Linearity, Homoscedasticity, Multivariate Normality, Independence of Errors, Lack of Multicollinearity\n",
    "\n",
    "# Case study- venture capitalist hired u to create a model to tell them which \n",
    "# company is interesting for the vc to invest in, which the feature of interest is profit\n",
    "# obviously they are not looking for the one that has the most profit\n",
    "# they want to understand which companies perform better in each of the states for examp.\n",
    "# or,  if you hold the states column equal does the company perform better with more\n",
    "# marketing spend or not?\n",
    "# and between r&d spend and marketing spend which one yields better results\n",
    "dataset = pd.read_csv('/50_Startups.csv')\n",
    "\n",
    "\n",
    "# so rmb that for categoricals, we have to create dummy variables\n",
    "# dont include every dummy variable to compute, in this case with \n",
    "# only two outcomes(newyork and cali) you can use only one dummy\n",
    "# as new york and when its 1 its newyork and 0 if its california \n",
    "\n",
    "# d1 for newyork dummy d2 for cali\n",
    "# y = b0 + b1x1 + b2x2 + b3x3 + b4d1 + b5d2\n",
    "# Dummy var trap - d2 = 1 - d1 will always be true \n",
    "# effect where a variable is used to predict on another variable is called Multicollinearity\n",
    "# solution is always omit one dummy var\n",
    "# if we have two categorical features then apply this solution to both features\n",
    "x = dataset.iloc[:,:-1].values\n",
    "y = dataset.iloc[:,-1].values\n",
    "\n",
    "from sklearn.preprocessing import LabelEncoder, OneHotEncoder\n",
    "labelencoder_x = LabelEncoder()\n",
    "x[:,3] = labelencoder_x.fit_transform(x[:,3])\n",
    "# so we need to turn into numbers because onehotencode only reads numbers\n",
    "onehotencoder = OneHotEncoder(categorical_features = [3])\n",
    "x = onehotencoder.fit_transform(x).toarray()\n",
    "\n",
    "# Avoiding the dummy variable trap\n",
    "# so this means we take out the first column\n",
    "# first of all we can do it or we don't have to becuase the this library takes care of dummy trap\n",
    "x = x[:, 1:]\n",
    "\n",
    "from sklearn.model_selection import train_test_split\n",
    "x_train, x_test, y_train,y_test = train_test_split(x,y,test_size = 0.2, random_state = 0)"
   ]
  },
  {
   "cell_type": "code",
   "execution_count": 2,
   "metadata": {
    "collapsed": true
   },
   "outputs": [],
   "source": [
    "# no need to reshape x because its already a matrix\n",
    "y_train = y_train.reshape(-1,1)"
   ]
  },
  {
   "cell_type": "code",
   "execution_count": 3,
   "metadata": {
    "collapsed": true
   },
   "outputs": [],
   "source": [
    "# Fitting Multiple Linear Regression to the Training set\n",
    "from sklearn.linear_model import LinearRegression\n",
    "regressor = LinearRegression()\n",
    "regressor.fit(x_train,y_train)\n",
    "\n",
    "# Prediting the test sample set\n",
    "y_pred = regressor.predict(x_test)\n"
   ]
  },
  {
   "cell_type": "code",
   "execution_count": 4,
   "metadata": {
    "collapsed": true
   },
   "outputs": [],
   "source": [
    "# Building the optimal model using backward elimination \n",
    "# rmb that the constant b0 in the formula has an x0 term to it which is an array of 1\n",
    "# now the statsmodel library does not add the x0 for us, like the Linear Regression library did\n",
    "import statsmodels.formula.api as sm\n",
    "# in this one we use ones to create a matrix of 50 lines and one column\n",
    "# the ones are in type int and axis specifies that we add it as a column\n",
    "# but this will append the ones to the last column we want it first so \n",
    "x = np.append(arr = np.ones((50,1)).astype(int),values = x,axis = 1)\n",
    "\n"
   ]
  },
  {
   "cell_type": "code",
   "execution_count": 6,
   "metadata": {},
   "outputs": [
    {
     "data": {
      "text/html": [
       "<table class=\"simpletable\">\n",
       "<caption>OLS Regression Results</caption>\n",
       "<tr>\n",
       "  <th>Dep. Variable:</th>            <td>y</td>        <th>  R-squared:         </th> <td>   0.950</td>\n",
       "</tr>\n",
       "<tr>\n",
       "  <th>Model:</th>                   <td>OLS</td>       <th>  Adj. R-squared:    </th> <td>   0.948</td>\n",
       "</tr>\n",
       "<tr>\n",
       "  <th>Method:</th>             <td>Least Squares</td>  <th>  F-statistic:       </th> <td>   450.8</td>\n",
       "</tr>\n",
       "<tr>\n",
       "  <th>Date:</th>             <td>Tue, 03 Jul 2018</td> <th>  Prob (F-statistic):</th> <td>2.16e-31</td>\n",
       "</tr>\n",
       "<tr>\n",
       "  <th>Time:</th>                 <td>13:23:54</td>     <th>  Log-Likelihood:    </th> <td> -525.54</td>\n",
       "</tr>\n",
       "<tr>\n",
       "  <th>No. Observations:</th>      <td>    50</td>      <th>  AIC:               </th> <td>   1057.</td>\n",
       "</tr>\n",
       "<tr>\n",
       "  <th>Df Residuals:</th>          <td>    47</td>      <th>  BIC:               </th> <td>   1063.</td>\n",
       "</tr>\n",
       "<tr>\n",
       "  <th>Df Model:</th>              <td>     2</td>      <th>                     </th>     <td> </td>   \n",
       "</tr>\n",
       "<tr>\n",
       "  <th>Covariance Type:</th>      <td>nonrobust</td>    <th>                     </th>     <td> </td>   \n",
       "</tr>\n",
       "</table>\n",
       "<table class=\"simpletable\">\n",
       "<tr>\n",
       "    <td></td>       <th>coef</th>     <th>std err</th>      <th>t</th>      <th>P>|t|</th>  <th>[0.025</th>    <th>0.975]</th>  \n",
       "</tr>\n",
       "<tr>\n",
       "  <th>const</th> <td> 4.698e+04</td> <td> 2689.933</td> <td>   17.464</td> <td> 0.000</td> <td> 4.16e+04</td> <td> 5.24e+04</td>\n",
       "</tr>\n",
       "<tr>\n",
       "  <th>x1</th>    <td>    0.7966</td> <td>    0.041</td> <td>   19.266</td> <td> 0.000</td> <td>    0.713</td> <td>    0.880</td>\n",
       "</tr>\n",
       "<tr>\n",
       "  <th>x2</th>    <td>    0.0299</td> <td>    0.016</td> <td>    1.927</td> <td> 0.060</td> <td>   -0.001</td> <td>    0.061</td>\n",
       "</tr>\n",
       "</table>\n",
       "<table class=\"simpletable\">\n",
       "<tr>\n",
       "  <th>Omnibus:</th>       <td>14.677</td> <th>  Durbin-Watson:     </th> <td>   1.257</td>\n",
       "</tr>\n",
       "<tr>\n",
       "  <th>Prob(Omnibus):</th> <td> 0.001</td> <th>  Jarque-Bera (JB):  </th> <td>  21.161</td>\n",
       "</tr>\n",
       "<tr>\n",
       "  <th>Skew:</th>          <td>-0.939</td> <th>  Prob(JB):          </th> <td>2.54e-05</td>\n",
       "</tr>\n",
       "<tr>\n",
       "  <th>Kurtosis:</th>      <td> 5.575</td> <th>  Cond. No.          </th> <td>5.32e+05</td>\n",
       "</tr>\n",
       "</table>"
      ],
      "text/plain": [
       "<class 'statsmodels.iolib.summary.Summary'>\n",
       "\"\"\"\n",
       "                            OLS Regression Results                            \n",
       "==============================================================================\n",
       "Dep. Variable:                      y   R-squared:                       0.950\n",
       "Model:                            OLS   Adj. R-squared:                  0.948\n",
       "Method:                 Least Squares   F-statistic:                     450.8\n",
       "Date:                Tue, 03 Jul 2018   Prob (F-statistic):           2.16e-31\n",
       "Time:                        13:23:54   Log-Likelihood:                -525.54\n",
       "No. Observations:                  50   AIC:                             1057.\n",
       "Df Residuals:                      47   BIC:                             1063.\n",
       "Df Model:                           2                                         \n",
       "Covariance Type:            nonrobust                                         \n",
       "==============================================================================\n",
       "                 coef    std err          t      P>|t|      [0.025      0.975]\n",
       "------------------------------------------------------------------------------\n",
       "const       4.698e+04   2689.933     17.464      0.000    4.16e+04    5.24e+04\n",
       "x1             0.7966      0.041     19.266      0.000       0.713       0.880\n",
       "x2             0.0299      0.016      1.927      0.060      -0.001       0.061\n",
       "==============================================================================\n",
       "Omnibus:                       14.677   Durbin-Watson:                   1.257\n",
       "Prob(Omnibus):                  0.001   Jarque-Bera (JB):               21.161\n",
       "Skew:                          -0.939   Prob(JB):                     2.54e-05\n",
       "Kurtosis:                       5.575   Cond. No.                     5.32e+05\n",
       "==============================================================================\n",
       "\n",
       "Warnings:\n",
       "[1] Standard Errors assume that the covariance matrix of the errors is correctly specified.\n",
       "[2] The condition number is large, 5.32e+05. This might indicate that there are\n",
       "strong multicollinearity or other numerical problems.\n",
       "\"\"\""
      ]
     },
     "execution_count": 6,
     "metadata": {},
     "output_type": "execute_result"
    }
   ],
   "source": [
    "# First, create the optimal features matrix which will only contain optimal features\n",
    "x_opt = x[:,[0,1,2,3,4,5]]\n",
    "# endog is dependent variable and exog is independent variable\n",
    "regressor_OLS = sm.OLS(endog= y, exog = x_opt).fit()\n",
    "regressor_OLS.summary()\n",
    "# so we look at the p value and then cut out the feature with highest p_value\n",
    "# in this case its x2 or administration spend \n",
    "x_opt = x[:,[0,1,3,4,5]]\n",
    "regressor_OLS = sm.OLS(endog= y, exog = x_opt).fit()\n",
    "regressor_OLS.summary()\n",
    "# keep repeating and removing features\n",
    "x_opt = x[:,[0,3,4,5]]\n",
    "regressor_OLS = sm.OLS(endog= y, exog = x_opt).fit()\n",
    "regressor_OLS.summary()\n",
    "x_opt = x[:,[0,3,5]]\n",
    "regressor_OLS = sm.OLS(endog= y, exog = x_opt).fit()\n",
    "regressor_OLS.summary()\n",
    "# you'll see that p value for x1 is 0 but it is not, its just so small in magnitude\n",
    "# now it results to be that column 5  has 0.06 in p value, but i dont\n",
    "# think we should remove it, we will evaluate the model laterr\n",
    "\n",
    "# BUT WE CANNOT CONCLUDE THAT R&D SPEND IS MORE SIGNIFICANT THAN MARKETING SPEND M\n",
    "\n",
    "# We should evaluate Adj. R-squared because R-squared will be subjected to bias from reduction\n",
    "# -of variables. \n",
    "# Deciding whether or not to remove the column 5 feature depends on whether upon removing,\n",
    "# - the adjusted r-squared will decrease or increase. We will pick the one that has a bigger adjusted R-Squared.\n"
   ]
  },
  {
   "cell_type": "code",
   "execution_count": 42,
   "metadata": {
    "collapsed": true
   },
   "outputs": [],
   "source": [
    "# NOW THE AUTOMATED VERSION\n",
    "def backwardElimination(x, sl):\n",
    "    numVars = len(x[0])\n",
    "    for i in range(0, numVars):\n",
    "        regressor_OLS = sm.OLS(y, x).fit()\n",
    "        maxVar = max(regressor_OLS.pvalues).astype(float)\n",
    "        if maxVar > sl:\n",
    "            for j in range(0, numVars - i):\n",
    "                if (regressor_OLS.pvalues[j].astype(float) == maxVar):\n",
    "                    x = np.delete(x, j, 1)\n",
    "    regressor_OLS.summary()\n",
    "    return x\n",
    " \n",
    "SL = 0.07\n",
    "x_opt = x[:, [0, 1, 2, 3, 4, 5]]\n",
    "x_modeled = backwardElimination(x_opt, SL)"
   ]
  },
  {
   "cell_type": "code",
   "execution_count": 43,
   "metadata": {},
   "outputs": [
    {
     "data": {
      "text/plain": [
       "array([[  1.00000000e+00,   1.65349200e+05,   4.71784100e+05],\n",
       "       [  1.00000000e+00,   1.62597700e+05,   4.43898530e+05],\n",
       "       [  1.00000000e+00,   1.53441510e+05,   4.07934540e+05],\n",
       "       [  1.00000000e+00,   1.44372410e+05,   3.83199620e+05],\n",
       "       [  1.00000000e+00,   1.42107340e+05,   3.66168420e+05],\n",
       "       [  1.00000000e+00,   1.31876900e+05,   3.62861360e+05],\n",
       "       [  1.00000000e+00,   1.34615460e+05,   1.27716820e+05],\n",
       "       [  1.00000000e+00,   1.30298130e+05,   3.23876680e+05],\n",
       "       [  1.00000000e+00,   1.20542520e+05,   3.11613290e+05],\n",
       "       [  1.00000000e+00,   1.23334880e+05,   3.04981620e+05],\n",
       "       [  1.00000000e+00,   1.01913080e+05,   2.29160950e+05],\n",
       "       [  1.00000000e+00,   1.00671960e+05,   2.49744550e+05],\n",
       "       [  1.00000000e+00,   9.38637500e+04,   2.49839440e+05],\n",
       "       [  1.00000000e+00,   9.19923900e+04,   2.52664930e+05],\n",
       "       [  1.00000000e+00,   1.19943240e+05,   2.56512920e+05],\n",
       "       [  1.00000000e+00,   1.14523610e+05,   2.61776230e+05],\n",
       "       [  1.00000000e+00,   7.80131100e+04,   2.64346060e+05],\n",
       "       [  1.00000000e+00,   9.46571600e+04,   2.82574310e+05],\n",
       "       [  1.00000000e+00,   9.17491600e+04,   2.94919570e+05],\n",
       "       [  1.00000000e+00,   8.64197000e+04,   0.00000000e+00],\n",
       "       [  1.00000000e+00,   7.62538600e+04,   2.98664470e+05],\n",
       "       [  1.00000000e+00,   7.83894700e+04,   2.99737290e+05],\n",
       "       [  1.00000000e+00,   7.39945600e+04,   3.03319260e+05],\n",
       "       [  1.00000000e+00,   6.75325300e+04,   3.04768730e+05],\n",
       "       [  1.00000000e+00,   7.70440100e+04,   1.40574810e+05],\n",
       "       [  1.00000000e+00,   6.46647100e+04,   1.37962620e+05],\n",
       "       [  1.00000000e+00,   7.53288700e+04,   1.34050070e+05],\n",
       "       [  1.00000000e+00,   7.21076000e+04,   3.53183810e+05],\n",
       "       [  1.00000000e+00,   6.60515200e+04,   1.18148200e+05],\n",
       "       [  1.00000000e+00,   6.56054800e+04,   1.07138380e+05],\n",
       "       [  1.00000000e+00,   6.19944800e+04,   9.11312400e+04],\n",
       "       [  1.00000000e+00,   6.11363800e+04,   8.82182300e+04],\n",
       "       [  1.00000000e+00,   6.34088600e+04,   4.60852500e+04],\n",
       "       [  1.00000000e+00,   5.54939500e+04,   2.14634810e+05],\n",
       "       [  1.00000000e+00,   4.64260700e+04,   2.10797670e+05],\n",
       "       [  1.00000000e+00,   4.60140200e+04,   2.05517640e+05],\n",
       "       [  1.00000000e+00,   2.86637600e+04,   2.01126820e+05],\n",
       "       [  1.00000000e+00,   4.40699500e+04,   1.97029420e+05],\n",
       "       [  1.00000000e+00,   2.02295900e+04,   1.85265100e+05],\n",
       "       [  1.00000000e+00,   3.85585100e+04,   1.74999300e+05],\n",
       "       [  1.00000000e+00,   2.87543300e+04,   1.72795670e+05],\n",
       "       [  1.00000000e+00,   2.78929200e+04,   1.64470710e+05],\n",
       "       [  1.00000000e+00,   2.36409300e+04,   1.48001110e+05],\n",
       "       [  1.00000000e+00,   1.55057300e+04,   3.55341700e+04],\n",
       "       [  1.00000000e+00,   2.21777400e+04,   2.83347200e+04],\n",
       "       [  1.00000000e+00,   1.00023000e+03,   1.90393000e+03],\n",
       "       [  1.00000000e+00,   1.31546000e+03,   2.97114460e+05],\n",
       "       [  1.00000000e+00,   0.00000000e+00,   0.00000000e+00],\n",
       "       [  1.00000000e+00,   5.42050000e+02,   0.00000000e+00],\n",
       "       [  1.00000000e+00,   0.00000000e+00,   4.51730600e+04]])"
      ]
     },
     "execution_count": 43,
     "metadata": {},
     "output_type": "execute_result"
    }
   ],
   "source": [
    "x_modeled"
   ]
  },
  {
   "cell_type": "code",
   "execution_count": null,
   "metadata": {
    "collapsed": true
   },
   "outputs": [],
   "source": []
  }
 ],
 "metadata": {
  "kernelspec": {
   "display_name": "Python 3",
   "language": "python",
   "name": "python3"
  },
  "language_info": {
   "codemirror_mode": {
    "name": "ipython",
    "version": 3
   },
   "file_extension": ".py",
   "mimetype": "text/x-python",
   "name": "python",
   "nbconvert_exporter": "python",
   "pygments_lexer": "ipython3",
   "version": "3.6.3"
  }
 },
 "nbformat": 4,
 "nbformat_minor": 2
}
